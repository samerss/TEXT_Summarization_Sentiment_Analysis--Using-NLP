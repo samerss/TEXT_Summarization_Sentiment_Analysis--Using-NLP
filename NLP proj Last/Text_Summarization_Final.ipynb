{
 "cells": [
  {
   "cell_type": "markdown",
   "metadata": {
    "id": "9-3GQN7ly87B"
   },
   "source": [
    "Now you don't need to read the whole news, article, post\n",
    "\n",
    "and don't think about negativity\n",
    "\n",
    "our program can tell if this text positive or negative\n",
    "also summarize your text to percentage you choose"
   ]
  },
  {
   "cell_type": "markdown",
   "metadata": {
    "id": "gCfOQz8W5AiA"
   },
   "source": [
    "Welcome to our program!\n",
    "\n",
    "Our program is designed to help you analyze and summarize text data quickly and easily. Whether you are reading a news article, blog post, or any other type of text data, our program can help you determine the sentiment of the text and summarize its content based on your chosen percentage.\n",
    "\n",
    "Sentiment Analysis:\n",
    "Our program uses natural language processing (NLP) techniques and machine learning models to analyze the sentiment of the input text. You don't need to worry about negativity, our program can determine whether the text is positive, negative, or neutral. This can be especially useful for businesses or individuals who want to quickly analyze customer feedback or social media posts.\n",
    "\n",
    "Summarization:\n",
    "Our program can also summarize the input text to a percentage that you choose. This means that you don't need to read the entire text to get the gist of its content. Simply input the text and choose the percentage of the summary you want, and our program will do the rest.\n",
    "\n",
    "Overall, our program is a powerful tool that can save you time and help you make informed decisions based on the sentiment and content of your text data. Give it a try today and see how it can help you!"
   ]
  },
  {
   "cell_type": "code",
   "execution_count": 44,
   "metadata": {
    "id": "6Ehfk3s8ZL0b"
   },
   "outputs": [],
   "source": [
    "# !pip instlla -U spacy\n",
    "# !python -m spacy download en_core_web_sm"
   ]
  },
  {
   "cell_type": "code",
   "execution_count": 45,
   "metadata": {
    "id": "gT1zyYMnZguO"
   },
   "outputs": [],
   "source": [
    "import spacy #analyzing text data, including tokenization, part-of-speech tagging, named entity recognition, dependency parsing\n",
    "from spacy.lang.en.stop_words import STOP_WORDS #to get stop words\n",
    "from string import punctuation #to get punc"
   ]
  },
  {
   "cell_type": "code",
   "execution_count": 46,
   "metadata": {
    "id": "2JqLo7pWYD1o"
   },
   "outputs": [],
   "source": [
    "with open('/content/The_city_of_violent.txt', 'r') as f:\n",
    "    file_contents = f.read()\n",
    "\n",
    "# Assign the contents to a variable\n",
    "text = file_contents"
   ]
  },
  {
   "cell_type": "code",
   "execution_count": 47,
   "metadata": {
    "colab": {
     "base_uri": "https://localhost:8080/"
    },
    "id": "JrR_ipOKZ4Lp",
    "outputId": "09c4e63f-cb7d-4385-9bcf-6d2816d8af4a"
   },
   "outputs": [
    {
     "name": "stdout",
     "output_type": "stream",
     "text": [
      "['please', 'in', '’ll', 'because', 'mostly', 'move', 'with', 'from', 'each', 'below', 'their', 'becoming', 'what', 'a', 'towards', 'now', 'either', 'say', 'quite', 'on', 'enough', 'has', '’s', 'twenty', 'anything', 'so', 'formerly', 'make', 'are', 'had', \"'d\", 'beyond', 'it', 'meanwhile', 'might', 'less', 'already', 'elsewhere', 'whereby', 'for', 'fifty', 'above', 'next', 'hereafter', 'should', 're', 'though', 'seems', 'am', 'eleven', 'else', 'may', 'together', 'our', 'hereby', 'between', 'mine', 'who', '’ve', 'latterly', 'another', 'go', 'off', 'somewhere', 'anyway', 'front', 'herein', 'be', 'cannot', 'he', 'anyone', 'really', 'nor', 'along', 'many', 'everywhere', 'after', 'any', 'somehow', 'nine', 'various', 'however', 'name', 'rather', 'ours', 'never', '‘s', 'namely', '‘ve', 'four', 'always', 'once', 'you', 'those', 'nevertheless', 'eight', 'her', 'at', 'becomes', 'and', 'if', 'myself', 'therefore', 'have', 'his', 'beforehand', 'him', 'side', 'through', 'hence', \"'s\", 'such', 'seemed', 'could', 'against', 'anywhere', 'again', 'whither', 'n‘t', 'behind', 'around', 'bottom', 'afterwards', 'some', 'everyone', 'into', 'five', 'not', 'nothing', 'whoever', 'doing', 'thus', 'part', 'further', 'ten', 'via', 'thereupon', 'how', 'whenever', 'but', 'down', 'seem', 'its', 'an', '‘m', 'used', 'show', '’re', 'serious', 'none', 'over', 'hereupon', 'although', 'unless', 'seeming', 'noone', 'two', 'would', 'sixty', 'can', 'was', 'toward', 'something', 'within', 'does', 'twelve', 'nowhere', 'then', 'six', 'other', 'others', 'perhaps', 'still', 'whereas', \"'m\", 'amongst', 'call', 'during', 'among', 'get', 'the', 'made', 'while', 'that', 'keep', 'fifteen', 'first', 'yourselves', 'here', 'by', 'yours', 'alone', 'thence', 'using', 'much', 'both', 'is', 'sometimes', 'give', 'as', 'will', '’m', \"'ve\", 'several', 'we', 'nobody', 'up', 'own', 'per', 'three', 'whatever', 'ca', 'himself', 'must', '‘ll', 'beside', 'last', 'full', 'done', 'since', 'my', 'under', 'itself', 'me', 'or', 'well', 'third', 'she', 'n’t', 'were', 'regarding', '’d', 'top', 'often', 'about', 'become', 'i', 'being', 'otherwise', 'one', 'us', 'wherever', 'everything', 'someone', 'see', \"'re\", 'them', 'hers', 'least', 'than', 'just', 'there', 'whose', 'besides', 'back', 'except', 'neither', 'ever', 'onto', 'empty', 'thereby', 'which', 'became', 'these', 'every', 'upon', 'almost', 'indeed', 'take', 'hundred', 'thereafter', 'themselves', 'more', 'only', 'to', 'whether', 'of', 'before', 'throughout', 'moreover', 'across', 'whereafter', 'ourselves', 'very', 'amount', 'all', 'herself', 'they', 'therein', 'most', 'sometime', 'forty', 'whom', 'when', 'yet', \"'ll\", 'whence', 'your', 'former', \"n't\", 'do', 'even', 'this', 'also', 'wherein', 'same', 'whereupon', '‘re', 'no', 'latter', 'why', 'until', 'did', 'thru', 'without', 'whole', 'few', 'out', 'due', 'where', '‘d', 'put', 'yourself', 'been', 'too', 'anyhow']\n"
     ]
    }
   ],
   "source": [
    "#get stop words\n",
    "stopwords = list(STOP_WORDS)\n",
    "print(stopwords)"
   ]
  },
  {
   "cell_type": "code",
   "execution_count": 48,
   "metadata": {
    "id": "PrE3D0S6aC_s"
   },
   "outputs": [],
   "source": [
    "#english core web summarization get model\n",
    "nlp = spacy.load('en_core_web_sm') "
   ]
  },
  {
   "cell_type": "code",
   "execution_count": 49,
   "metadata": {
    "id": "RntMWU8DaQDm"
   },
   "outputs": [],
   "source": [
    "doc = nlp(text)"
   ]
  },
  {
   "cell_type": "code",
   "execution_count": 50,
   "metadata": {
    "colab": {
     "base_uri": "https://localhost:8080/"
    },
    "id": "Pqre-o8AaXRA",
    "outputId": "1f8c4164-b9ee-4f7b-8b22-40f884b637e7"
   },
   "outputs": [
    {
     "name": "stdout",
     "output_type": "stream",
     "text": [
      "['The', 'city', 'was', 'in', 'chaos', 'as', 'the', 'protests', 'turned', 'violent', '.', 'Police', 'officers', 'in', 'riot', 'gear', 'clashed', 'with', 'demonstrators', ',', 'firing', 'tear', 'gas', 'and', 'rubber', 'bullets', 'into', 'the', 'crowds', '.', 'The', 'protesters', ',', 'who', 'were', 'demanding', 'justice', 'for', 'a', 'recent', 'police', 'shooting', ',', 'responded', 'with', 'rocks', 'and', 'Molotov', 'cocktails', '.', 'Buildings', 'were', 'set', 'on', 'fire', ',', 'stores', 'were', 'looted', ',', 'and', 'cars', 'were', 'overturned', '.', 'The', 'National', 'Guard', 'was', 'called', 'in', 'to', 'restore', 'order', ',', 'but', 'the', 'situation', 'only', 'worsened', 'as', 'more', 'people', 'joined', 'the', 'protests', '.', 'The', 'mayor', 'issued', 'a', 'curfew', ',', 'but', 'it', 'was', 'widely', 'ignored', 'as', 'the', 'violence', 'continued', 'throughout', 'the', 'night', '.', 'The', 'hospital', 'was', 'overwhelmed', 'with', 'injured', 'protesters', 'and', 'police', 'officers', ',', 'and', 'there', 'were', 'reports', 'of', 'several', 'fatalities', '.', 'The', 'governor', 'declared', 'a', 'state', 'of', 'emergency', 'and', 'called', 'for', 'calm', ',', 'but', 'his', 'words', 'fell', 'on', 'deaf', 'ears', '.', 'The', 'protests', 'spread', 'to', 'other', 'cities', ',', 'and', 'soon', 'the', 'entire', 'country', 'was', 'in', 'turmoil', '.', 'The', 'government', 'was', 'accused', 'of', 'being', 'out', 'of', 'touch', 'with', 'the', 'people', 'and', 'of', 'not', 'doing', 'enough', 'to', 'address', 'the', 'underlying', 'issues', '.', 'The', 'president', 'was', 'criticized', 'for', 'his', 'lack', 'of', 'leadership', ',', 'and', 'there', 'were', 'calls', 'for', 'him', 'to', 'resign', '.', 'The', 'opposition', 'parties', 'seized', 'the', 'opportunity', 'to', 'criticize', 'the', 'government', 'and', 'to', 'call', 'for', 'new', 'elections', '.', 'International', 'organizations', 'expressed', 'concern', 'about', 'the', 'situation', ',', 'and', 'some', 'countries', 'issued', 'travel', 'warnings', 'for', 'their', 'citizens', '.', 'The', 'economy', 'suffered', 'as', 'businesses', 'closed', 'and', 'investors', 'pulled', 'out', '.', 'The', 'country', \"'s\", 'image', 'was', 'tarnished', ',', 'and', 'it', 'was', 'unclear', 'how', 'long', 'it', 'would', 'take', 'to', 'recover', '.', 'The', 'people', 'were', 'angry', ',', 'frustrated', ',', 'and', 'scared', ',', 'and', 'many', 'felt', 'that', 'their', 'voices', 'were', 'not', 'being', 'heard', '.', 'The', 'media', 'coverage', 'was', 'intense', 'and', 'often', 'sensationalized', ',', 'fueling', 'further', 'unrest', 'and', 'division', '.', 'Social', 'media', 'was', 'also', 'a', 'hotbed', 'of', 'activity', ',', 'with', 'rumors', 'and', 'misinformation', 'spreading', 'quickly', '.', 'The', 'police', 'were', 'criticized', 'for', 'using', 'excessive', 'force', ',', 'while', 'the', 'protesters', 'were', 'accused', 'of', 'being', 'violent', 'and', 'destructive', '.', 'Both', 'sides', 'dug', 'in', ',', 'and', 'it', 'seemed', 'that', 'there', 'was', 'no', 'end', 'in', 'sight', 'to', 'the', 'chaos', '.', 'The', 'situation', 'continued', 'for', 'several', 'weeks', ',', 'with', 'sporadic', 'outbreaks', 'of', 'violence', 'and', 'tension', '.', 'Eventually', ',', 'a', 'negotiated', 'settlement', 'was', 'reached', ',', 'but', 'the', 'scars', 'of', 'the', 'conflict', 'remained', '.', 'The', 'city', ',', 'and', 'the', 'country', 'as', 'a', 'whole', ',', 'would', 'never', 'be', 'the', 'same', 'again', '.', 'The', 'events', 'of', 'that', 'period', 'would', 'be', 'studied', ',', 'analyzed', ',', 'and', 'debated', 'for', 'years', 'to', 'come', ',', 'as', 'people', 'tried', 'to', 'make', 'sense', 'of', 'what', 'had', 'happened', 'and', 'to', 'learn', 'from', 'the', 'mistakes', 'that', 'had', 'been', 'made', '.', 'But', 'for', 'those', 'who', 'had', 'lived', 'through', 'it', ',', 'the', 'memories', 'would', 'remain', 'vivid', 'and', 'painful', ',', 'a', 'reminder', 'of', 'how', 'quickly', 'things', 'can', 'spiral', 'out', 'of', 'control', 'when', 'people', 'lose', 'faith', 'in', 'their', 'leaders', 'and', 'in', 'each', 'other', '.', '\\n']\n"
     ]
    }
   ],
   "source": [
    "#get the tokens\n",
    "tokens = [token.text for token in doc]\n",
    "print(tokens)"
   ]
  },
  {
   "cell_type": "code",
   "execution_count": 51,
   "metadata": {
    "colab": {
     "base_uri": "https://localhost:8080/",
     "height": 36
    },
    "id": "Tn2Uv-F3HDpw",
    "outputId": "5eafd2c8-aa1e-490a-dab8-25d1548ff7db"
   },
   "outputs": [
    {
     "data": {
      "application/vnd.google.colaboratory.intrinsic+json": {
       "type": "string"
      },
      "text/plain": [
       "'!\"#$%&\\'()*+,-./:;<=>?@[\\\\]^_`{|}~\\n'"
      ]
     },
     "execution_count": 51,
     "metadata": {},
     "output_type": "execute_result"
    }
   ],
   "source": [
    "#returns the punctuation string variable, new line\n",
    "punctuation = punctuation + '\\n'\n",
    "punctuation"
   ]
  },
  {
   "cell_type": "code",
   "execution_count": 52,
   "metadata": {
    "id": "huSfsmdrWK84"
   },
   "outputs": [],
   "source": [
    "\n",
    "word_frequencies = {} # Initialize an empty dictionary to store word frequencies\n",
    "# Iterate over each word in the input text\n",
    "for word in doc:\n",
    "  if word.text.lower() not in stopwords: # Skip stopwords\n",
    "    if word.text.lower() not in punctuation: # Skip punctuation characters\n",
    "      if word.text not in word_frequencies.keys():\n",
    "        word_frequencies[word.text] = 1  # If the word is not already in the dictionary, add it with a frequency of 1\n",
    "      else:\n",
    "        word_frequencies[word.text] += 1   #If the word is already in the dictionary, increment its frequency by 1"
   ]
  },
  {
   "cell_type": "code",
   "execution_count": 53,
   "metadata": {
    "colab": {
     "base_uri": "https://localhost:8080/"
    },
    "id": "EgiBcbxFXZj2",
    "outputId": "1c771665-702a-4f83-8490-5fcc1979c8b0"
   },
   "outputs": [
    {
     "name": "stdout",
     "output_type": "stream",
     "text": [
      "{'city': 2, 'chaos': 2, 'protests': 3, 'turned': 1, 'violent': 2, 'Police': 1, 'officers': 2, 'riot': 1, 'gear': 1, 'clashed': 1, 'demonstrators': 1, 'firing': 1, 'tear': 1, 'gas': 1, 'rubber': 1, 'bullets': 1, 'crowds': 1, 'protesters': 3, 'demanding': 1, 'justice': 1, 'recent': 1, 'police': 3, 'shooting': 1, 'responded': 1, 'rocks': 1, 'Molotov': 1, 'cocktails': 1, 'Buildings': 1, 'set': 1, 'fire': 1, 'stores': 1, 'looted': 1, 'cars': 1, 'overturned': 1, 'National': 1, 'Guard': 1, 'called': 2, 'restore': 1, 'order': 1, 'situation': 3, 'worsened': 1, 'people': 5, 'joined': 1, 'mayor': 1, 'issued': 2, 'curfew': 1, 'widely': 1, 'ignored': 1, 'violence': 2, 'continued': 2, 'night': 1, 'hospital': 1, 'overwhelmed': 1, 'injured': 1, 'reports': 1, 'fatalities': 1, 'governor': 1, 'declared': 1, 'state': 1, 'emergency': 1, 'calm': 1, 'words': 1, 'fell': 1, 'deaf': 1, 'ears': 1, 'spread': 1, 'cities': 1, 'soon': 1, 'entire': 1, 'country': 3, 'turmoil': 1, 'government': 2, 'accused': 2, 'touch': 1, 'address': 1, 'underlying': 1, 'issues': 1, 'president': 1, 'criticized': 2, 'lack': 1, 'leadership': 1, 'calls': 1, 'resign': 1, 'opposition': 1, 'parties': 1, 'seized': 1, 'opportunity': 1, 'criticize': 1, 'new': 1, 'elections': 1, 'International': 1, 'organizations': 1, 'expressed': 1, 'concern': 1, 'countries': 1, 'travel': 1, 'warnings': 1, 'citizens': 1, 'economy': 1, 'suffered': 1, 'businesses': 1, 'closed': 1, 'investors': 1, 'pulled': 1, 'image': 1, 'tarnished': 1, 'unclear': 1, 'long': 1, 'recover': 1, 'angry': 1, 'frustrated': 1, 'scared': 1, 'felt': 1, 'voices': 1, 'heard': 1, 'media': 2, 'coverage': 1, 'intense': 1, 'sensationalized': 1, 'fueling': 1, 'unrest': 1, 'division': 1, 'Social': 1, 'hotbed': 1, 'activity': 1, 'rumors': 1, 'misinformation': 1, 'spreading': 1, 'quickly': 2, 'excessive': 1, 'force': 1, 'destructive': 1, 'sides': 1, 'dug': 1, 'end': 1, 'sight': 1, 'weeks': 1, 'sporadic': 1, 'outbreaks': 1, 'tension': 1, 'Eventually': 1, 'negotiated': 1, 'settlement': 1, 'reached': 1, 'scars': 1, 'conflict': 1, 'remained': 1, 'events': 1, 'period': 1, 'studied': 1, 'analyzed': 1, 'debated': 1, 'years': 1, 'come': 1, 'tried': 1, 'sense': 1, 'happened': 1, 'learn': 1, 'mistakes': 1, 'lived': 1, 'memories': 1, 'remain': 1, 'vivid': 1, 'painful': 1, 'reminder': 1, 'things': 1, 'spiral': 1, 'control': 1, 'lose': 1, 'faith': 1, 'leaders': 1}\n"
     ]
    }
   ],
   "source": [
    "#dis word freq\n",
    "print(word_frequencies)"
   ]
  },
  {
   "cell_type": "code",
   "execution_count": 54,
   "metadata": {
    "id": "59QpWTlkX6UC"
   },
   "outputs": [],
   "source": [
    "# Find the maximum frequency value in the word frequencies dictionary\n",
    "max_frequency = max(word_frequencies.values())"
   ]
  },
  {
   "cell_type": "code",
   "execution_count": 55,
   "metadata": {
    "colab": {
     "base_uri": "https://localhost:8080/"
    },
    "id": "oIQGF1vAYGoD",
    "outputId": "bcaad11e-9326-473b-93a2-54ff4264047c"
   },
   "outputs": [
    {
     "data": {
      "text/plain": [
       "5"
      ]
     },
     "execution_count": 55,
     "metadata": {},
     "output_type": "execute_result"
    }
   ],
   "source": [
    "max_frequency"
   ]
  },
  {
   "cell_type": "code",
   "execution_count": 14,
   "metadata": {
    "id": "Gx_S5rRXYX2H"
   },
   "outputs": [],
   "source": [
    "# Normalize word frequencies by dividing each frequency by the maximum frequency\n",
    "for word in word_frequencies.keys():\n",
    "  word_frequencies[word] = word_frequencies[word]/max_frequency"
   ]
  },
  {
   "cell_type": "code",
   "execution_count": 15,
   "metadata": {
    "colab": {
     "base_uri": "https://localhost:8080/"
    },
    "id": "H0QbAJA5YuG0",
    "outputId": "86b4dca2-01f5-4a9f-ff1e-f8dffccaab36"
   },
   "outputs": [
    {
     "name": "stdout",
     "output_type": "stream",
     "text": [
      "{'city': 0.4, 'chaos': 0.4, 'protests': 0.6, 'turned': 0.2, 'violent': 0.4, 'Police': 0.2, 'officers': 0.4, 'riot': 0.2, 'gear': 0.2, 'clashed': 0.2, 'demonstrators': 0.2, 'firing': 0.2, 'tear': 0.2, 'gas': 0.2, 'rubber': 0.2, 'bullets': 0.2, 'crowds': 0.2, 'protesters': 0.6, 'demanding': 0.2, 'justice': 0.2, 'recent': 0.2, 'police': 0.6, 'shooting': 0.2, 'responded': 0.2, 'rocks': 0.2, 'Molotov': 0.2, 'cocktails': 0.2, 'Buildings': 0.2, 'set': 0.2, 'fire': 0.2, 'stores': 0.2, 'looted': 0.2, 'cars': 0.2, 'overturned': 0.2, 'National': 0.2, 'Guard': 0.2, 'called': 0.4, 'restore': 0.2, 'order': 0.2, 'situation': 0.6, 'worsened': 0.2, 'people': 1.0, 'joined': 0.2, 'mayor': 0.2, 'issued': 0.4, 'curfew': 0.2, 'widely': 0.2, 'ignored': 0.2, 'violence': 0.4, 'continued': 0.4, 'night': 0.2, 'hospital': 0.2, 'overwhelmed': 0.2, 'injured': 0.2, 'reports': 0.2, 'fatalities': 0.2, 'governor': 0.2, 'declared': 0.2, 'state': 0.2, 'emergency': 0.2, 'calm': 0.2, 'words': 0.2, 'fell': 0.2, 'deaf': 0.2, 'ears': 0.2, 'spread': 0.2, 'cities': 0.2, 'soon': 0.2, 'entire': 0.2, 'country': 0.6, 'turmoil': 0.2, 'government': 0.4, 'accused': 0.4, 'touch': 0.2, 'address': 0.2, 'underlying': 0.2, 'issues': 0.2, 'president': 0.2, 'criticized': 0.4, 'lack': 0.2, 'leadership': 0.2, 'calls': 0.2, 'resign': 0.2, 'opposition': 0.2, 'parties': 0.2, 'seized': 0.2, 'opportunity': 0.2, 'criticize': 0.2, 'new': 0.2, 'elections': 0.2, 'International': 0.2, 'organizations': 0.2, 'expressed': 0.2, 'concern': 0.2, 'countries': 0.2, 'travel': 0.2, 'warnings': 0.2, 'citizens': 0.2, 'economy': 0.2, 'suffered': 0.2, 'businesses': 0.2, 'closed': 0.2, 'investors': 0.2, 'pulled': 0.2, 'image': 0.2, 'tarnished': 0.2, 'unclear': 0.2, 'long': 0.2, 'recover': 0.2, 'angry': 0.2, 'frustrated': 0.2, 'scared': 0.2, 'felt': 0.2, 'voices': 0.2, 'heard': 0.2, 'media': 0.4, 'coverage': 0.2, 'intense': 0.2, 'sensationalized': 0.2, 'fueling': 0.2, 'unrest': 0.2, 'division': 0.2, 'Social': 0.2, 'hotbed': 0.2, 'activity': 0.2, 'rumors': 0.2, 'misinformation': 0.2, 'spreading': 0.2, 'quickly': 0.4, 'excessive': 0.2, 'force': 0.2, 'destructive': 0.2, 'sides': 0.2, 'dug': 0.2, 'end': 0.2, 'sight': 0.2, 'weeks': 0.2, 'sporadic': 0.2, 'outbreaks': 0.2, 'tension': 0.2, 'Eventually': 0.2, 'negotiated': 0.2, 'settlement': 0.2, 'reached': 0.2, 'scars': 0.2, 'conflict': 0.2, 'remained': 0.2, 'events': 0.2, 'period': 0.2, 'studied': 0.2, 'analyzed': 0.2, 'debated': 0.2, 'years': 0.2, 'come': 0.2, 'tried': 0.2, 'sense': 0.2, 'happened': 0.2, 'learn': 0.2, 'mistakes': 0.2, 'lived': 0.2, 'memories': 0.2, 'remain': 0.2, 'vivid': 0.2, 'painful': 0.2, 'reminder': 0.2, 'things': 0.2, 'spiral': 0.2, 'control': 0.2, 'lose': 0.2, 'faith': 0.2, 'leaders': 0.2}\n"
     ]
    }
   ],
   "source": [
    "#DIS\n",
    "print(word_frequencies)"
   ]
  },
  {
   "cell_type": "code",
   "execution_count": 16,
   "metadata": {
    "colab": {
     "base_uri": "https://localhost:8080/"
    },
    "id": "d9vbQAUDZCUV",
    "outputId": "74a53664-4efa-409d-ce4c-53bfd37eab39"
   },
   "outputs": [
    {
     "name": "stdout",
     "output_type": "stream",
     "text": [
      "[The city was in chaos as the protests turned violent., Police officers in riot gear clashed with demonstrators, firing tear gas and rubber bullets into the crowds., The protesters, who were demanding justice for a recent police shooting, responded with rocks and Molotov cocktails., Buildings were set on fire, stores were looted, and cars were overturned., The National Guard was called in to restore order, but the situation only worsened as more people joined the protests., The mayor issued a curfew, but it was widely ignored as the violence continued throughout the night., The hospital was overwhelmed with injured protesters and police officers, and there were reports of several fatalities., The governor declared a state of emergency and called for calm, but his words fell on deaf ears., The protests spread to other cities, and soon the entire country was in turmoil., The government was accused of being out of touch with the people and of not doing enough to address the underlying issues., The president was criticized for his lack of leadership, and there were calls for him to resign., The opposition parties seized the opportunity to criticize the government and to call for new elections., International organizations expressed concern about the situation, and some countries issued travel warnings for their citizens., The economy suffered as businesses closed and investors pulled out., The country's image was tarnished, and it was unclear how long it would take to recover., The people were angry, frustrated,and scared, and many felt that their voices were not being heard., The media coverage was intense and often sensationalized, fueling further unrest and division., Social media was also a hotbed of activity, with rumors and misinformation spreading quickly., The police were criticized for using excessive force, while the protesters were accused of being violent and destructive., Both sides dug in, and it seemed that there was no end in sight to the chaos., The situation continued for several weeks, with sporadic outbreaks of violence and tension., Eventually, a negotiated settlement was reached, but the scars of the conflict remained., The city, and the country as a whole, would never be the same again., The events of that period would be studied, analyzed, and debated for years to come, as people tried to make sense of what had happened and to learn from the mistakes that had been made., But for those who had lived through it, the memories would remain vivid and painful, a reminder of how quickly things can spiral out of control when people lose faith in their leaders and in each other.\n",
      "]\n"
     ]
    }
   ],
   "source": [
    "# Split the input text into a list of sentences using Spacy\n",
    "sentence_tokens = [sent for sent in doc.sents]\n",
    "print(sentence_tokens)"
   ]
  },
  {
   "cell_type": "code",
   "execution_count": 17,
   "metadata": {
    "id": "-3Ee54JWZk5G"
   },
   "outputs": [],
   "source": [
    "# Initialize an empty dictionary to store sentence scores\n",
    "sentence_scores = {}\n",
    "# Calculate the score of each sentence based on the frequency of the words it contains\n",
    "for sent in sentence_tokens:\n",
    "  for word in sent:\n",
    "    if word.text.lower() in word_frequencies.keys():\n",
    "      if sent not in sentence_scores.keys():\n",
    "        #if statement checks if the lowercase version of the current word is in the word_frequencies dictionary.\n",
    "        #If the word is not in the dictionary, it is skipped and not counted in the sentence score calculation.\n",
    "        sentence_scores[sent] = word_frequencies[word.text.lower()] \n",
    "      else:\n",
    "        sentence_scores[sent] += word_frequencies[word.text.lower()]\n"
   ]
  },
  {
   "cell_type": "code",
   "execution_count": 18,
   "metadata": {
    "colab": {
     "base_uri": "https://localhost:8080/"
    },
    "id": "eHuAYodnIg5I",
    "outputId": "89544ad1-5c6a-4bd2-d06d-1fed1aa14ce2"
   },
   "outputs": [
    {
     "data": {
      "text/plain": [
       "{The city was in chaos as the protests turned violent.: 2.0,\n",
       " Police officers in riot gear clashed with demonstrators, firing tear gas and rubber bullets into the crowds.: 3.0000000000000004,\n",
       " The protesters, who were demanding justice for a recent police shooting, responded with rocks and Molotov cocktails.: 2.6,\n",
       " Buildings were set on fire, stores were looted, and cars were overturned.: 1.2,\n",
       " The National Guard was called in to restore order, but the situation only worsened as more people joined the protests.: 3.4,\n",
       " The mayor issued a curfew, but it was widely ignored as the violence continued throughout the night.: 2.2,\n",
       " The hospital was overwhelmed with injured protesters and police officers, and there were reports of several fatalities.: 2.6000000000000005,\n",
       " The governor declared a state of emergency and called for calm, but his words fell on deaf ears.: 2.2,\n",
       " The protests spread to other cities, and soon the entire country was in turmoil.: 2.2,\n",
       " The government was accused of being out of touch with the people and of not doing enough to address the underlying issues.: 2.6000000000000005,\n",
       " The president was criticized for his lack of leadership, and there were calls for him to resign.: 1.4,\n",
       " The opposition parties seized the opportunity to criticize the government and to call for new elections.: 1.7999999999999998,\n",
       " International organizations expressed concern about the situation, and some countries issued travel warnings for their citizens.: 2.400000000000001,\n",
       " The economy suffered as businesses closed and investors pulled out.: 1.2,\n",
       " The country's image was tarnished, and it was unclear how long it would take to recover.: 1.5999999999999999,\n",
       " The people were angry, frustrated,and scared, and many felt that their voices were not being heard.: 2.1999999999999997,\n",
       " The media coverage was intense and often sensationalized, fueling further unrest and division.: 1.5999999999999999,\n",
       " Social media was also a hotbed of activity, with rumors and misinformation spreading quickly.: 1.7999999999999998,\n",
       " The police were criticized for using excessive force, while the protesters were accused of being violent and destructive.: 3.0,\n",
       " Both sides dug in, and it seemed that there was no end in sight to the chaos.: 1.2000000000000002,\n",
       " The situation continued for several weeks, with sporadic outbreaks of violence and tension.: 2.2,\n",
       " Eventually, a negotiated settlement was reached, but the scars of the conflict remained.: 1.2,\n",
       " The city, and the country as a whole, would never be the same again.: 1.0,\n",
       " The events of that period would be studied, analyzed, and debated for years to come, as people tried to make sense of what had happened and to learn from the mistakes that had been made.: 3.400000000000001,\n",
       " But for those who had lived through it, the memories would remain vivid and painful, a reminder of how quickly things can spiral out of control when people lose faith in their leaders and in each other.: 3.8000000000000007}"
      ]
     },
     "execution_count": 18,
     "metadata": {},
     "output_type": "execute_result"
    }
   ],
   "source": [
    "sentence_scores"
   ]
  },
  {
   "cell_type": "code",
   "execution_count": 19,
   "metadata": {
    "id": "-8BICcjZJCpU"
   },
   "outputs": [],
   "source": [
    "#useful for sorting and selecting the top elements from a collection. \n",
    "from heapq import nlargest"
   ]
  },
  {
   "cell_type": "code",
   "execution_count": 21,
   "metadata": {
    "colab": {
     "base_uri": "https://localhost:8080/"
    },
    "id": "n7QOpoldJTcY",
    "outputId": "c7a2df22-36af-4710-e57a-f2587b56079e"
   },
   "outputs": [
    {
     "data": {
      "text/plain": [
       "7"
      ]
     },
     "execution_count": 21,
     "metadata": {},
     "output_type": "execute_result"
    }
   ],
   "source": [
    "#ADJUST LEN\n",
    "select_length = int(len(sentence_tokens)*0.3)\n",
    "select_length"
   ]
  },
  {
   "cell_type": "code",
   "execution_count": 22,
   "metadata": {
    "id": "0qYYWV82JygM"
   },
   "outputs": [],
   "source": [
    "summary = nlargest(select_length, sentence_scores, key = sentence_scores.get)"
   ]
  },
  {
   "cell_type": "code",
   "execution_count": 23,
   "metadata": {
    "colab": {
     "base_uri": "https://localhost:8080/"
    },
    "id": "TR5wQN6UKDrt",
    "outputId": "03b468e1-a40d-459c-84d1-5636b45a666d"
   },
   "outputs": [
    {
     "data": {
      "text/plain": [
       "[But for those who had lived through it, the memories would remain vivid and painful, a reminder of how quickly things can spiral out of control when people lose faith in their leaders and in each other.,\n",
       " The events of that period would be studied, analyzed, and debated for years to come, as people tried to make sense of what had happened and to learn from the mistakes that had been made.,\n",
       " The National Guard was called in to restore order, but the situation only worsened as more people joined the protests.,\n",
       " Police officers in riot gear clashed with demonstrators, firing tear gas and rubber bullets into the crowds.,\n",
       " The police were criticized for using excessive force, while the protesters were accused of being violent and destructive.,\n",
       " The hospital was overwhelmed with injured protesters and police officers, and there were reports of several fatalities.,\n",
       " The government was accused of being out of touch with the people and of not doing enough to address the underlying issues.]"
      ]
     },
     "execution_count": 23,
     "metadata": {},
     "output_type": "execute_result"
    }
   ],
   "source": [
    "summary"
   ]
  },
  {
   "cell_type": "code",
   "execution_count": 24,
   "metadata": {
    "id": "k3cGqkqaKWnT"
   },
   "outputs": [],
   "source": [
    "#This creates a new list named final_summary by iterating over each object in the summary list\n",
    "#and extracting its text using the text attribute. When we print the final_summary list to the console, we get the following output:\n",
    "final_summary = [word.text for word in summary]"
   ]
  },
  {
   "cell_type": "code",
   "execution_count": 25,
   "metadata": {
    "id": "1pw4ElbUKpMB"
   },
   "outputs": [],
   "source": [
    "#This line joins the text of each sentence in the \"final_summary\" list together into a single string, separated by spaces. This creates the final summary of the text.\n",
    "summary = ' '.join(final_summary)"
   ]
  },
  {
   "cell_type": "code",
   "execution_count": 26,
   "metadata": {
    "colab": {
     "base_uri": "https://localhost:8080/"
    },
    "id": "Wa66EgbzLIgR",
    "outputId": "3d34b132-0629-412d-8fb1-1f7e70b2dc39"
   },
   "outputs": [
    {
     "name": "stdout",
     "output_type": "stream",
     "text": [
      "The city was in chaos as the protests turned violent. Police officers in riot gear clashed with demonstrators, firing tear gas and rubber bullets into the crowds. The protesters, who were demanding justice for a recent police shooting, responded with rocks and Molotov cocktails. Buildings were set on fire, stores were looted, and cars were overturned. The National Guard was called in to restore order, but the situation only worsened as more people joined the protests. The mayor issued a curfew, but it was widely ignored as the violence continued throughout the night. The hospital was overwhelmed with injured protesters and police officers, and there were reports of several fatalities. The governor declared a state of emergency and called for calm, but his words fell on deaf ears. The protests spread to other cities, and soon the entire country was in turmoil. The government was accused of being out of touch with the people and of not doing enough to address the underlying issues. The president was criticized for his lack of leadership, and there were calls for him to resign. The opposition parties seized the opportunity to criticize the government and to call for new elections. International organizations expressed concern about the situation, and some countries issued travel warnings for their citizens. The economy suffered as businesses closed and investors pulled out. The country's image was tarnished, and it was unclear how long it would take to recover. The people were angry, frustrated,and scared, and many felt that their voices were not being heard. The media coverage was intense and often sensationalized, fueling further unrest and division. Social media was also a hotbed of activity, with rumors and misinformation spreading quickly. The police were criticized for using excessive force, while the protesters were accused of being violent and destructive. Both sides dug in, and it seemed that there was no end in sight to the chaos. The situation continued for several weeks, with sporadic outbreaks of violence and tension. Eventually, a negotiated settlement was reached, but the scars of the conflict remained. The city, and the country as a whole, would never be the same again. The events of that period would be studied, analyzed, and debated for years to come, as people tried to make sense of what had happened and to learn from the mistakes that had been made. But for those who had lived through it, the memories would remain vivid and painful, a reminder of how quickly things can spiral out of control when people lose faith in their leaders and in each other.\n",
      "\n"
     ]
    }
   ],
   "source": [
    "print(text)"
   ]
  },
  {
   "cell_type": "code",
   "execution_count": 27,
   "metadata": {
    "colab": {
     "base_uri": "https://localhost:8080/"
    },
    "id": "no_-dxurKz1c",
    "outputId": "712a0e38-a4c8-4074-c076-6ae1c08e492c"
   },
   "outputs": [
    {
     "name": "stdout",
     "output_type": "stream",
     "text": [
      "But for those who had lived through it, the memories would remain vivid and painful, a reminder of how quickly things can spiral out of control when people lose faith in their leaders and in each other.\n",
      " The events of that period would be studied, analyzed, and debated for years to come, as people tried to make sense of what had happened and to learn from the mistakes that had been made. The National Guard was called in to restore order, but the situation only worsened as more people joined the protests. Police officers in riot gear clashed with demonstrators, firing tear gas and rubber bullets into the crowds. The police were criticized for using excessive force, while the protesters were accused of being violent and destructive. The hospital was overwhelmed with injured protesters and police officers, and there were reports of several fatalities. The government was accused of being out of touch with the people and of not doing enough to address the underlying issues.\n"
     ]
    }
   ],
   "source": [
    "print(summary)"
   ]
  },
  {
   "cell_type": "code",
   "execution_count": 33,
   "metadata": {
    "colab": {
     "base_uri": "https://localhost:8080/"
    },
    "id": "yrpthbLeVKXa",
    "outputId": "4aac5255-1c58-4f6f-e43c-1f69e2942421"
   },
   "outputs": [
    {
     "name": "stderr",
     "output_type": "stream",
     "text": [
      "[nltk_data] Downloading package punkt to /root/nltk_data...\n",
      "[nltk_data]   Package punkt is already up-to-date!\n"
     ]
    },
    {
     "data": {
      "text/plain": [
       "True"
      ]
     },
     "execution_count": 33,
     "metadata": {},
     "output_type": "execute_result"
    }
   ],
   "source": [
    "from textblob import TextBlob\n",
    "import nltk\n",
    "nltk.download('punkt')"
   ]
  },
  {
   "cell_type": "code",
   "execution_count": 38,
   "metadata": {
    "colab": {
     "base_uri": "https://localhost:8080/"
    },
    "id": "hHqLurY_x3Md",
    "outputId": "1821b276-841f-4a49-8ae0-fa5b26b3f8cb"
   },
   "outputs": [
    {
     "name": "stderr",
     "output_type": "stream",
     "text": [
      "[nltk_data] Downloading package punkt to /root/nltk_data...\n",
      "[nltk_data]   Package punkt is already up-to-date!\n"
     ]
    }
   ],
   "source": [
    "from textblob import TextBlob\n",
    "import nltk\n",
    "nltk.download('punkt')\n",
    "blob = TextBlob(text)"
   ]
  },
  {
   "cell_type": "code",
   "execution_count": 42,
   "metadata": {
    "colab": {
     "base_uri": "https://localhost:8080/"
    },
    "id": "AuUHKESdStZa",
    "outputId": "1cb4181b-84d0-434a-b73a-642c2e099348"
   },
   "outputs": [
    {
     "name": "stdout",
     "output_type": "stream",
     "text": [
      "The city was in chaos as the protests turned violent. -0.8\n",
      "Police officers in riot gear clashed with demonstrators, firing tear gas and rubber bullets into the crowds. 0.0\n",
      "The protesters, who were demanding justice for a recent police shooting, responded with rocks and Molotov cocktails. 0.0\n",
      "Buildings were set on fire, stores were looted, and cars were overturned. 0.0\n",
      "The National Guard was called in to restore order, but the situation only worsened as more people joined the protests. 0.25\n",
      "The mayor issued a curfew, but it was widely ignored as the violence continued throughout the night. -0.1\n",
      "The hospital was overwhelmed with injured protesters and police officers, and there were reports of several fatalities. 0.0\n",
      "The governor declared a state of emergency and called for calm, but his words fell on deaf ears. 0.30000000000000004\n",
      "The protests spread to other cities, and soon the entire country was in turmoil. -0.0625\n",
      "The government was accused of being out of touch with the people and of not doing enough to address the underlying issues. 0.0\n",
      "The president was criticized for his lack of leadership, and there were calls for him to resign. 0.0\n",
      "The opposition parties seized the opportunity to criticize the government and to call for new elections. 0.13636363636363635\n",
      "International organizations expressed concern about the situation, and some countries issued travel warnings for their citizens. 0.0\n",
      "The economy suffered as businesses closed and investors pulled out. -0.1\n",
      "The country's image was tarnished, and it was unclear how long it would take to recover. -0.05\n",
      "The people were angry, frustrated,and scared, and many felt that their voices were not being heard. 0.0\n",
      "The media coverage was intense and often sensationalized, fueling further unrest and division. 0.1\n",
      "Social media was also a hotbed of activity, with rumors and misinformation spreading quickly. 0.18333333333333332\n",
      "The police were criticized for using excessive force, while the protesters were accused of being violent and destructive. -0.5499999999999999\n",
      "Both sides dug in, and it seemed that there was no end in sight to the chaos. 0.0\n",
      "The situation continued for several weeks, with sporadic outbreaks of violence and tension. 0.0\n",
      "Eventually, a negotiated settlement was reached, but the scars of the conflict remained. 0.0\n",
      "The city, and the country as a whole, would never be the same again. 0.1\n",
      "The events of that period would be studied, analyzed, and debated for years to come, as people tried to make sense of what had happened and to learn from the mistakes that had been made. 0.0\n",
      "But for those who had lived through it, the memories would remain vivid and painful, a reminder of how quickly things can spiral out of control when people lose faith in their leaders and in each other. -0.09166666666666666\n",
      "negative\n"
     ]
    }
   ],
   "source": [
    "for sentence in blob.sentences:\n",
    "    print(sentence, sentence.sentiment.polarity)\n",
    "def get_sentiment(text):\n",
    "    \"\"\"\n",
    "    Returns the sentiment of the input text as a string (\"positive\", \"negative\", or \"neutral\").\n",
    "    \"\"\"\n",
    "    blob = TextBlob(text)\n",
    "    polarity = blob.sentiment.polarity\n",
    "    if polarity > 0:\n",
    "        return \"positive\"\n",
    "    elif polarity < 0:\n",
    "        return \"negative\"\n",
    "    else:\n",
    "        return \"neutral\"  #error handling \n",
    "\n",
    "sentiment = get_sentiment(text)\n",
    "print(sentiment)\n",
    "blob = TextBlob(text)"
   ]
  }
 ],
 "metadata": {
  "colab": {
   "provenance": []
  },
  "kernelspec": {
   "display_name": "Python 3 (ipykernel)",
   "language": "python",
   "name": "python3"
  },
  "language_info": {
   "codemirror_mode": {
    "name": "ipython",
    "version": 3
   },
   "file_extension": ".py",
   "mimetype": "text/x-python",
   "name": "python",
   "nbconvert_exporter": "python",
   "pygments_lexer": "ipython3",
   "version": "3.9.7"
  }
 },
 "nbformat": 4,
 "nbformat_minor": 1
}
