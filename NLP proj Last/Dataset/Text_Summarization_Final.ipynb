{
  "nbformat": 4,
  "nbformat_minor": 0,
  "metadata": {
    "colab": {
      "provenance": []
    },
    "kernelspec": {
      "name": "python3",
      "display_name": "Python 3"
    }
  },
  "cells": [
    {
      "cell_type": "code",
      "metadata": {
        "id": "6Ehfk3s8ZL0b"
      },
      "source": [
        "# !pip instlla -U spacy\n",
        "# !python -m spacy download en_core_web_sm"
      ],
      "execution_count": null,
      "outputs": []
    },
    {
      "cell_type": "code",
      "metadata": {
        "id": "gT1zyYMnZguO"
      },
      "source": [
        "import spacy #analyzing text data, including tokenization, part-of-speech tagging, named entity recognition, dependency parsing\n",
        "from spacy.lang.en.stop_words import STOP_WORDS #to get stop words\n",
        "from string import punctuation #to get punc"
      ],
      "execution_count": 44,
      "outputs": []
    },
    {
      "cell_type": "code",
      "metadata": {
        "id": "2JqLo7pWYD1o"
      },
      "source": [
        "with open('text-test2.txt', 'r') as f:\n",
        "    file_contents = f.read()\n",
        "\n",
        "# Assign the contents to a variable\n",
        "text = file_contents"
      ],
      "execution_count": 45,
      "outputs": []
    },
    {
      "cell_type": "code",
      "metadata": {
        "id": "JrR_ipOKZ4Lp",
        "colab": {
          "base_uri": "https://localhost:8080/"
        },
        "outputId": "e6e33df1-7fa1-4b3d-cc6c-fc56cc75f817"
      },
      "source": [
        "#get stop words\n",
        "stopwords = list(STOP_WORDS)\n",
        "print(stopwords)"
      ],
      "execution_count": 46,
      "outputs": [
        {
          "output_type": "stream",
          "name": "stdout",
          "text": [
            "['has', 'regarding', 'does', 'again', 'somewhere', 'even', 'him', 'there', 'else', 'under', 'herself', 'together', 'five', 'give', 'beside', 'anyhow', 'such', 'whatever', 'whither', 'twelve', 'see', 'their', 'thereupon', 'it', 'less', 'his', 'them', 'three', 'be', 'which', 'namely', 'eight', 'about', 'too', 'over', 'nothing', 'with', 'of', 'behind', 'go', 'elsewhere', 'though', 'anyone', 'whoever', 'do', 'becomes', 'eleven', 'nevertheless', 'while', 'please', 'using', 'get', 'from', 'on', 'used', 'along', 'noone', 'very', 'quite', 'here', 'move', 'front', 're', 'own', 'hereafter', 'because', 'afterwards', 'above', 'fifteen', 'within', 'whereby', 'wherein', 'empty', 'call', 'to', 'back', 'others', 'none', 'hers', 'been', 'hereupon', 'therefore', 'forty', 'whence', 'although', 'however', 'off', 'her', 'was', 'around', 'might', 'were', '‘m', 'toward', 'any', 'whereafter', 'its', 'without', 'almost', 'same', 'thru', 'is', 'latter', 'other', 'being', 'more', 'what', '‘s', 'first', 'upon', 'everywhere', 'among', 'i', 'would', 'one', 'otherwise', 'your', 'part', 'thereafter', 'become', 'two', 'everything', 'never', '’m', 'sometimes', 'himself', 'across', 'ten', 'where', 'everyone', 'besides', 'meanwhile', 'seemed', 'n‘t', 'well', 'am', 'take', 'say', \"'ll\", 'various', 'another', 'yours', 'did', 'during', 'through', 'hundred', 'many', 'until', 'amount', '’ll', 'after', 'somehow', 'some', 'six', 'than', 'ourselves', 'have', 'name', 'that', 'bottom', '’ve', 'whereupon', 'once', '‘ve', 'hereby', 'amongst', 'four', 'sixty', 'third', 'ours', 'anywhere', 'fifty', 'may', 'make', '‘ll', 'themselves', 'becoming', 'all', 'since', 'towards', 'still', 'mine', 'out', 'really', 'thence', 'either', 'for', 'who', 'ca', 'beyond', 'then', \"'re\", 'into', 'yourself', 'someone', 'the', '’s', 'between', 'this', 'rather', 'moreover', 'formerly', 'perhaps', 'up', 'anyway', 'no', 'therein', 'we', 'by', 'below', 'had', 'if', 'twenty', 'thereby', 'now', 'sometime', 'whole', 'already', 'n’t', 'those', 'both', 'mostly', 'she', 'put', 'our', 'an', 'keep', 'and', 'neither', 'became', 'show', 'could', 'they', 'doing', 'will', 'indeed', 'whether', 'enough', 'in', 'me', 'at', 'he', 'down', '‘d', 'least', 'seem', 'hence', 'or', 'when', 'us', 'as', 'further', 'should', 'side', 'via', 'why', '’re', 'beforehand', 'whose', 'ever', 'latterly', 'against', 'each', 'often', 'whereas', 'full', 'former', 'always', 'itself', 'wherever', 'nine', 'but', \"'d\", 'last', 'yourselves', '‘re', \"'s\", 'nor', 'cannot', 'whenever', 'alone', 'a', 'not', \"'ve\", 'how', 'must', 'throughout', 'due', '’d', 'much', 'seeming', 'anything', 'my', 'nowhere', 'before', 'so', 'also', 'only', 'you', 'onto', 'several', 'just', 'most', 'nobody', 'done', 'except', 'whom', 'next', 'per', 'something', 'seems', 'these', \"n't\", 'herein', 'few', 'made', \"'m\", 'unless', 'are', 'serious', 'myself', 'every', 'top', 'yet', 'thus', 'can']\n"
          ]
        }
      ]
    },
    {
      "cell_type": "code",
      "metadata": {
        "id": "PrE3D0S6aC_s"
      },
      "source": [
        "#english core web summarization get model\n",
        "nlp = spacy.load('en_core_web_sm') "
      ],
      "execution_count": 47,
      "outputs": []
    },
    {
      "cell_type": "code",
      "metadata": {
        "id": "RntMWU8DaQDm"
      },
      "source": [
        "doc = nlp(text)"
      ],
      "execution_count": 48,
      "outputs": []
    },
    {
      "cell_type": "code",
      "metadata": {
        "id": "Pqre-o8AaXRA",
        "outputId": "f0d3286b-2b49-4e8b-d35a-c44dbeab6261",
        "colab": {
          "base_uri": "https://localhost:8080/"
        }
      },
      "source": [
        "#get the tokens\n",
        "tokens = [token.text for token in doc]\n",
        "print(tokens)"
      ],
      "execution_count": 49,
      "outputs": [
        {
          "output_type": "stream",
          "name": "stdout",
          "text": [
            "['Envisioned', 'as', 'a', 'three', '-', 'year', 'collaborative', 'program', ',', 'Intelligent', 'Cloud', 'Hub', 'will', 'support', 'around', '100', 'institutions', 'with', 'AI', 'infrastructure', ',', 'course', 'content', 'and', 'curriculum', ',', 'developer', 'support', ',', 'development', 'tools', 'and', 'give', 'students', 'access', 'to', 'cloud', 'and', 'AI', 'services', '\\n', 'As', 'part', 'of', 'the', 'program', ',', 'the', 'Redmond', 'giant', 'which', 'wants', 'to', 'expand', 'its', 'reach', 'and', 'is', 'planning', 'to', 'build', 'a', 'strong', 'developer', 'ecosystem', 'in', 'India', 'with', 'the', 'program', 'will', 'set', 'up', 'the', 'core', 'AI', 'infrastructure', 'and', 'IoT', 'Hub', 'for', 'the', 'selected', 'campuses', '\\n', 'The', 'company', 'will', 'provide', 'AI', 'development', 'tools', 'and', 'Azure', 'AI', 'services', 'such', 'as', 'Microsoft', 'Cognitive', 'Services', ',', 'Bot', 'Services', 'and', 'Azure', 'Machine', 'Learning', '.', 'According', 'to', 'Manish', 'Prakash', ',', 'Country', 'General', 'Manager', '-', 'PS', ',', 'Health', 'and', 'Education', ',', 'Microsoft', 'India', ',', 'said', ',', '\"', 'With', 'AI', 'being', 'the', 'defining', 'technology', 'of', 'our', 'time', ',', 'it', 'is', 'transforming', 'lives', 'and', 'industry', 'and', 'the', 'jobs', 'of', 'tomorrow', 'will', 'require', 'a', 'different', 'skillset', '\\n', 'This', 'will', 'require', 'more', 'collaborations', 'and', 'training', 'and', 'working', 'with', 'AI', '\\n', 'Thatâ€', '™', 's', 'why', 'it', 'has', 'become', 'more', 'critical', 'than', 'ever', 'for', 'educational', 'institutions', 'to', 'integrate', 'new', 'cloud', 'and', 'AI', 'technologies', '\\n', 'The', 'program', 'is', 'an', 'attempt', 'to', 'ramp', 'up', 'the', 'institutional', 'set', '-', 'up', 'and', 'build', 'capabilities', 'among', 'the', 'educators', 'to', 'educate', 'the', 'workforce', 'of', 'tomorrow', '.', '\"', 'The', 'program', 'aims', 'to', 'build', 'up', 'the', 'cognitive', 'skills', 'and', 'in', '-', 'depth', 'understanding', 'of', 'developing', 'intelligent', 'cloud', 'connected', 'solutions', 'for', 'applications', 'across', 'industry', '\\n', 'Earlier', 'in', 'April', 'this', 'year', ',', 'the', 'company', 'announced', 'Microsoft', 'Professional', 'Program', 'In', 'AI', 'as', 'a', 'learning', 'track', 'open', 'to', 'the', 'public', '\\n', 'The', 'program', 'was', 'developed', 'to', 'provide', 'job', 'ready', 'skills', 'to', 'programmers', 'who', 'wanted', 'to', 'hone', 'their', 'skills', 'in', 'AI', 'and', 'data', 'science', 'with', 'a', 'series', 'of', 'online', 'courses', 'which', 'featured', 'hands', '-', 'on', 'labs', 'and', 'expert', 'instructors', 'as', 'well', '\\n', 'This', 'program', 'also', 'included', 'developer', '-', 'focused', 'AI', 'school', 'that', 'provided', 'a', 'bunch', 'of', 'assets', 'to', 'help', 'build', '\\xa0', 'AI', '\\xa0', 'skills', '.']\n"
          ]
        }
      ]
    },
    {
      "cell_type": "code",
      "metadata": {
        "id": "Tn2Uv-F3HDpw",
        "colab": {
          "base_uri": "https://localhost:8080/",
          "height": 36
        },
        "outputId": "942b975f-6e56-4617-921d-7ed703c2c5c2"
      },
      "source": [
        "#returns the punctuation string variable, new line\n",
        "punctuation = punctuation + '\\n'\n",
        "punctuation"
      ],
      "execution_count": 50,
      "outputs": [
        {
          "output_type": "execute_result",
          "data": {
            "text/plain": [
              "'!\"#$%&\\'()*+,-./:;<=>?@[\\\\]^_`{|}~\\n'"
            ],
            "application/vnd.google.colaboratory.intrinsic+json": {
              "type": "string"
            }
          },
          "metadata": {},
          "execution_count": 50
        }
      ]
    },
    {
      "cell_type": "code",
      "metadata": {
        "id": "huSfsmdrWK84"
      },
      "source": [
        "\n",
        "word_frequencies = {} # Initialize an empty dictionary to store word frequencies\n",
        "# Iterate over each word in the input text\n",
        "for word in doc:\n",
        "  if word.text.lower() not in stopwords: # Skip stopwords\n",
        "    if word.text.lower() not in punctuation: # Skip punctuation characters\n",
        "      if word.text not in word_frequencies.keys():\n",
        "        word_frequencies[word.text] = 1  # If the word is not already in the dictionary, add it with a frequency of 1\n",
        "      else:\n",
        "        word_frequencies[word.text] += 1   #If the word is already in the dictionary, increment its frequency by 1"
      ],
      "execution_count": 52,
      "outputs": []
    },
    {
      "cell_type": "code",
      "metadata": {
        "id": "EgiBcbxFXZj2",
        "colab": {
          "base_uri": "https://localhost:8080/"
        },
        "outputId": "b021ebc0-2826-49a1-fc78-ec82e319ac8e"
      },
      "source": [
        "#dis word freq\n",
        "print(word_frequencies)"
      ],
      "execution_count": 53,
      "outputs": [
        {
          "output_type": "stream",
          "name": "stdout",
          "text": [
            "{'Envisioned': 1, 'year': 2, 'collaborative': 1, 'program': 7, 'Intelligent': 1, 'Cloud': 1, 'Hub': 2, 'support': 2, '100': 1, 'institutions': 2, 'AI': 12, 'infrastructure': 2, 'course': 1, 'content': 1, 'curriculum': 1, 'developer': 3, 'development': 2, 'tools': 2, 'students': 1, 'access': 1, 'cloud': 3, 'services': 2, 'Redmond': 1, 'giant': 1, 'wants': 1, 'expand': 1, 'reach': 1, 'planning': 1, 'build': 4, 'strong': 1, 'ecosystem': 1, 'India': 2, 'set': 2, 'core': 1, 'IoT': 1, 'selected': 1, 'campuses': 1, 'company': 2, 'provide': 2, 'Azure': 2, 'Microsoft': 3, 'Cognitive': 1, 'Services': 2, 'Bot': 1, 'Machine': 1, 'Learning': 1, 'According': 1, 'Manish': 1, 'Prakash': 1, 'Country': 1, 'General': 1, 'Manager': 1, 'PS': 1, 'Health': 1, 'Education': 1, 'said': 1, 'defining': 1, 'technology': 1, 'time': 1, 'transforming': 1, 'lives': 1, 'industry': 2, 'jobs': 1, 'tomorrow': 2, 'require': 2, 'different': 1, 'skillset': 1, 'collaborations': 1, 'training': 1, 'working': 1, 'Thatâ€': 1, '™': 1, 's': 1, 'critical': 1, 'educational': 1, 'integrate': 1, 'new': 1, 'technologies': 1, 'attempt': 1, 'ramp': 1, 'institutional': 1, 'capabilities': 1, 'educators': 1, 'educate': 1, 'workforce': 1, 'aims': 1, 'cognitive': 1, 'skills': 4, 'depth': 1, 'understanding': 1, 'developing': 1, 'intelligent': 1, 'connected': 1, 'solutions': 1, 'applications': 1, 'Earlier': 1, 'April': 1, 'announced': 1, 'Professional': 1, 'Program': 1, 'learning': 1, 'track': 1, 'open': 1, 'public': 1, 'developed': 1, 'job': 1, 'ready': 1, 'programmers': 1, 'wanted': 1, 'hone': 1, 'data': 1, 'science': 1, 'series': 1, 'online': 1, 'courses': 1, 'featured': 1, 'hands': 1, 'labs': 1, 'expert': 1, 'instructors': 1, 'included': 1, 'focused': 1, 'school': 1, 'provided': 1, 'bunch': 1, 'assets': 1, 'help': 1, '\\xa0': 2}\n"
          ]
        }
      ]
    },
    {
      "cell_type": "code",
      "metadata": {
        "id": "59QpWTlkX6UC"
      },
      "source": [
        "# Find the maximum frequency value in the word frequencies dictionary\n",
        "max_frequency = max(word_frequencies.values())"
      ],
      "execution_count": 54,
      "outputs": []
    },
    {
      "cell_type": "code",
      "metadata": {
        "id": "oIQGF1vAYGoD",
        "colab": {
          "base_uri": "https://localhost:8080/"
        },
        "outputId": "79a16c1f-19d8-4b96-9eb0-fc748efcc059"
      },
      "source": [
        "max_frequency"
      ],
      "execution_count": 55,
      "outputs": [
        {
          "output_type": "execute_result",
          "data": {
            "text/plain": [
              "12"
            ]
          },
          "metadata": {},
          "execution_count": 55
        }
      ]
    },
    {
      "cell_type": "code",
      "metadata": {
        "id": "Gx_S5rRXYX2H"
      },
      "source": [
        "# Normalize word frequencies by dividing each frequency by the maximum frequency\n",
        "for word in word_frequencies.keys():\n",
        "  word_frequencies[word] = word_frequencies[word]/max_frequency"
      ],
      "execution_count": 56,
      "outputs": []
    },
    {
      "cell_type": "code",
      "metadata": {
        "id": "H0QbAJA5YuG0",
        "colab": {
          "base_uri": "https://localhost:8080/"
        },
        "outputId": "287df0d2-cbde-4227-d7ae-003e02ebca57"
      },
      "source": [
        "#DIS\n",
        "print(word_frequencies)"
      ],
      "execution_count": 57,
      "outputs": [
        {
          "output_type": "stream",
          "name": "stdout",
          "text": [
            "{'Envisioned': 0.08333333333333333, 'year': 0.16666666666666666, 'collaborative': 0.08333333333333333, 'program': 0.5833333333333334, 'Intelligent': 0.08333333333333333, 'Cloud': 0.08333333333333333, 'Hub': 0.16666666666666666, 'support': 0.16666666666666666, '100': 0.08333333333333333, 'institutions': 0.16666666666666666, 'AI': 1.0, 'infrastructure': 0.16666666666666666, 'course': 0.08333333333333333, 'content': 0.08333333333333333, 'curriculum': 0.08333333333333333, 'developer': 0.25, 'development': 0.16666666666666666, 'tools': 0.16666666666666666, 'students': 0.08333333333333333, 'access': 0.08333333333333333, 'cloud': 0.25, 'services': 0.16666666666666666, 'Redmond': 0.08333333333333333, 'giant': 0.08333333333333333, 'wants': 0.08333333333333333, 'expand': 0.08333333333333333, 'reach': 0.08333333333333333, 'planning': 0.08333333333333333, 'build': 0.3333333333333333, 'strong': 0.08333333333333333, 'ecosystem': 0.08333333333333333, 'India': 0.16666666666666666, 'set': 0.16666666666666666, 'core': 0.08333333333333333, 'IoT': 0.08333333333333333, 'selected': 0.08333333333333333, 'campuses': 0.08333333333333333, 'company': 0.16666666666666666, 'provide': 0.16666666666666666, 'Azure': 0.16666666666666666, 'Microsoft': 0.25, 'Cognitive': 0.08333333333333333, 'Services': 0.16666666666666666, 'Bot': 0.08333333333333333, 'Machine': 0.08333333333333333, 'Learning': 0.08333333333333333, 'According': 0.08333333333333333, 'Manish': 0.08333333333333333, 'Prakash': 0.08333333333333333, 'Country': 0.08333333333333333, 'General': 0.08333333333333333, 'Manager': 0.08333333333333333, 'PS': 0.08333333333333333, 'Health': 0.08333333333333333, 'Education': 0.08333333333333333, 'said': 0.08333333333333333, 'defining': 0.08333333333333333, 'technology': 0.08333333333333333, 'time': 0.08333333333333333, 'transforming': 0.08333333333333333, 'lives': 0.08333333333333333, 'industry': 0.16666666666666666, 'jobs': 0.08333333333333333, 'tomorrow': 0.16666666666666666, 'require': 0.16666666666666666, 'different': 0.08333333333333333, 'skillset': 0.08333333333333333, 'collaborations': 0.08333333333333333, 'training': 0.08333333333333333, 'working': 0.08333333333333333, 'Thatâ€': 0.08333333333333333, '™': 0.08333333333333333, 's': 0.08333333333333333, 'critical': 0.08333333333333333, 'educational': 0.08333333333333333, 'integrate': 0.08333333333333333, 'new': 0.08333333333333333, 'technologies': 0.08333333333333333, 'attempt': 0.08333333333333333, 'ramp': 0.08333333333333333, 'institutional': 0.08333333333333333, 'capabilities': 0.08333333333333333, 'educators': 0.08333333333333333, 'educate': 0.08333333333333333, 'workforce': 0.08333333333333333, 'aims': 0.08333333333333333, 'cognitive': 0.08333333333333333, 'skills': 0.3333333333333333, 'depth': 0.08333333333333333, 'understanding': 0.08333333333333333, 'developing': 0.08333333333333333, 'intelligent': 0.08333333333333333, 'connected': 0.08333333333333333, 'solutions': 0.08333333333333333, 'applications': 0.08333333333333333, 'Earlier': 0.08333333333333333, 'April': 0.08333333333333333, 'announced': 0.08333333333333333, 'Professional': 0.08333333333333333, 'Program': 0.08333333333333333, 'learning': 0.08333333333333333, 'track': 0.08333333333333333, 'open': 0.08333333333333333, 'public': 0.08333333333333333, 'developed': 0.08333333333333333, 'job': 0.08333333333333333, 'ready': 0.08333333333333333, 'programmers': 0.08333333333333333, 'wanted': 0.08333333333333333, 'hone': 0.08333333333333333, 'data': 0.08333333333333333, 'science': 0.08333333333333333, 'series': 0.08333333333333333, 'online': 0.08333333333333333, 'courses': 0.08333333333333333, 'featured': 0.08333333333333333, 'hands': 0.08333333333333333, 'labs': 0.08333333333333333, 'expert': 0.08333333333333333, 'instructors': 0.08333333333333333, 'included': 0.08333333333333333, 'focused': 0.08333333333333333, 'school': 0.08333333333333333, 'provided': 0.08333333333333333, 'bunch': 0.08333333333333333, 'assets': 0.08333333333333333, 'help': 0.08333333333333333, '\\xa0': 0.16666666666666666}\n"
          ]
        }
      ]
    },
    {
      "cell_type": "code",
      "metadata": {
        "id": "d9vbQAUDZCUV",
        "colab": {
          "base_uri": "https://localhost:8080/"
        },
        "outputId": "33e37782-a2f5-455f-951a-be353904942d"
      },
      "source": [
        "# Split the input text into a list of sentences using Spacy\n",
        "sentence_tokens = [sent for sent in doc.sents]\n",
        "print(sentence_tokens)"
      ],
      "execution_count": 58,
      "outputs": [
        {
          "output_type": "stream",
          "name": "stdout",
          "text": [
            "[Envisioned as a three-year collaborative program, Intelligent Cloud Hub will support around 100 institutions with AI infrastructure, course content and curriculum, developer support, development tools and give students access to cloud and AI services\n",
            ", As part of the program, the Redmond giant which wants to expand its reach and is planning to build a strong developer ecosystem in India with the program will set up the core AI infrastructure and IoT Hub for the selected campuses\n",
            "The company will provide AI development tools and Azure AI services such as Microsoft Cognitive Services, Bot Services and Azure Machine Learning., According to Manish Prakash, Country General Manager-PS, Health and Education, Microsoft India, said, \"With AI being the defining technology of our time, it is transforming lives and industry and the jobs of tomorrow will require a different skillset\n",
            "This will require more collaborations and training and working with AI\n",
            ", Thatâ€, ™s why it has become more critical than ever for educational institutions to integrate new cloud and AI technologies\n",
            ", The program is an attempt to ramp up the institutional set-up and build capabilities among the educators to educate the workforce of tomorrow.\", The program aims to build up the cognitive skills and in-depth understanding of developing intelligent cloud connected solutions for applications across industry\n",
            "Earlier in April this year, the company announced Microsoft Professional Program, In AI as a learning track open to the public\n",
            "The program was developed to provide job ready skills to programmers who wanted to hone their skills in AI and data science with a series of online courses which featured hands-on labs and expert instructors as well\n",
            "This program also included developer-focused AI school that provided a bunch of assets to help build AI skills.]\n"
          ]
        }
      ]
    },
    {
      "cell_type": "code",
      "metadata": {
        "id": "-3Ee54JWZk5G"
      },
      "source": [
        "# Initialize an empty dictionary to store sentence scores\n",
        "sentence_scores = {}\n",
        "# Calculate the score of each sentence based on the frequency of the words it contains\n",
        "for sent in sentence_tokens:\n",
        "  for word in sent:\n",
        "    if word.text.lower() in word_frequencies.keys():\n",
        "      if sent not in sentence_scores.keys():\n",
        "        #if statement checks if the lowercase version of the current word is in the word_frequencies dictionary.\n",
        "        #If the word is not in the dictionary, it is skipped and not counted in the sentence score calculation.\n",
        "        sentence_scores[sent] = word_frequencies[word.text.lower()] \n",
        "      else:\n",
        "        sentence_scores[sent] += word_frequencies[word.text.lower()]\n"
      ],
      "execution_count": 61,
      "outputs": []
    },
    {
      "cell_type": "code",
      "metadata": {
        "id": "eHuAYodnIg5I",
        "colab": {
          "base_uri": "https://localhost:8080/"
        },
        "outputId": "ea8bb4fa-b470-4e72-c5b0-da5a65c31c06"
      },
      "source": [
        "sentence_scores"
      ],
      "execution_count": 63,
      "outputs": [
        {
          "output_type": "execute_result",
          "data": {
            "text/plain": [
              "{Envisioned as a three-year collaborative program, Intelligent Cloud Hub will support around 100 institutions with AI infrastructure, course content and curriculum, developer support, development tools and give students access to cloud and AI services: 3.333333333333333,\n",
              " As part of the program, the Redmond giant which wants to expand its reach and is planning to build a strong developer ecosystem in India with the program will set up the core AI infrastructure and IoT Hub for the selected campuses\n",
              " The company will provide AI development tools and Azure AI services such as Microsoft Cognitive Services, Bot Services and Azure Machine Learning.: 4.249999999999999,\n",
              " According to Manish Prakash, Country General Manager-PS, Health and Education, Microsoft India, said, \"With AI being the defining technology of our time, it is transforming lives and industry and the jobs of tomorrow will require a different skillset\n",
              " This will require more collaborations and training and working with AI: 1.6666666666666663,\n",
              " ™s why it has become more critical than ever for educational institutions to integrate new cloud and AI technologies: 1.0,\n",
              " The program is an attempt to ramp up the institutional set-up and build capabilities among the educators to educate the workforce of tomorrow.\": 1.8333333333333333,\n",
              " The program aims to build up the cognitive skills and in-depth understanding of developing intelligent cloud connected solutions for applications across industry\n",
              " Earlier in April this year, the company announced Microsoft Professional Program: 3.4166666666666665,\n",
              " In AI as a learning track open to the public\n",
              " The program was developed to provide job ready skills to programmers who wanted to hone their skills in AI and data science with a series of online courses which featured hands-on labs and expert instructors as well\n",
              " This program also included developer-focused AI school that provided a bunch of assets to help build AI skills.: 5.5}"
            ]
          },
          "metadata": {},
          "execution_count": 63
        }
      ]
    },
    {
      "cell_type": "code",
      "metadata": {
        "id": "-8BICcjZJCpU"
      },
      "source": [
        "#useful for sorting and selecting the top elements from a collection. \n",
        "from heapq import nlargest"
      ],
      "execution_count": 64,
      "outputs": []
    },
    {
      "cell_type": "code",
      "metadata": {
        "id": "n7QOpoldJTcY",
        "colab": {
          "base_uri": "https://localhost:8080/"
        },
        "outputId": "10ce1ce8-8b9c-486c-be6c-3d99e7304917"
      },
      "source": [
        "#ADJUST LEN\n",
        "select_length = int(len(sentence_tokens)*0.3)\n",
        "select_length"
      ],
      "execution_count": 65,
      "outputs": [
        {
          "output_type": "execute_result",
          "data": {
            "text/plain": [
              "2"
            ]
          },
          "metadata": {},
          "execution_count": 65
        }
      ]
    },
    {
      "cell_type": "code",
      "metadata": {
        "id": "0qYYWV82JygM"
      },
      "source": [
        "summary = nlargest(select_length, sentence_scores, key = sentence_scores.get)"
      ],
      "execution_count": 72,
      "outputs": []
    },
    {
      "cell_type": "code",
      "metadata": {
        "id": "TR5wQN6UKDrt",
        "colab": {
          "base_uri": "https://localhost:8080/"
        },
        "outputId": "451de2f7-d008-4c4b-d65e-a126cb97fe86"
      },
      "source": [
        "summary"
      ],
      "execution_count": 73,
      "outputs": [
        {
          "output_type": "execute_result",
          "data": {
            "text/plain": [
              "[In AI as a learning track open to the public\n",
              " The program was developed to provide job ready skills to programmers who wanted to hone their skills in AI and data science with a series of online courses which featured hands-on labs and expert instructors as well\n",
              " This program also included developer-focused AI school that provided a bunch of assets to help build AI skills.,\n",
              " As part of the program, the Redmond giant which wants to expand its reach and is planning to build a strong developer ecosystem in India with the program will set up the core AI infrastructure and IoT Hub for the selected campuses\n",
              " The company will provide AI development tools and Azure AI services such as Microsoft Cognitive Services, Bot Services and Azure Machine Learning.]"
            ]
          },
          "metadata": {},
          "execution_count": 73
        }
      ]
    },
    {
      "cell_type": "code",
      "metadata": {
        "id": "k3cGqkqaKWnT"
      },
      "source": [
        "#This creates a new list named final_summary by iterating over each object in the summary list\n",
        "#and extracting its text using the text attribute. When we print the final_summary list to the console, we get the following output:\n",
        "final_summary = [word.text for word in summary]"
      ],
      "execution_count": 74,
      "outputs": []
    },
    {
      "cell_type": "code",
      "metadata": {
        "id": "1pw4ElbUKpMB"
      },
      "source": [
        "#This line joins the text of each sentence in the \"final_summary\" list together into a single string, separated by spaces. This creates the final summary of the text.\n",
        "summary = ' '.join(final_summary)"
      ],
      "execution_count": 69,
      "outputs": []
    },
    {
      "cell_type": "code",
      "metadata": {
        "id": "Wa66EgbzLIgR",
        "colab": {
          "base_uri": "https://localhost:8080/"
        },
        "outputId": "41f7dd3b-a872-41f5-c8aa-3580e5b08593"
      },
      "source": [
        "print(text)"
      ],
      "execution_count": 42,
      "outputs": [
        {
          "output_type": "stream",
          "name": "stdout",
          "text": [
            "Envisioned as a three-year collaborative program, Intelligent Cloud Hub will support around 100 institutions with AI infrastructure, course content and curriculum, developer support, development tools and give students access to cloud and AI services\n",
            "As part of the program, the Redmond giant which wants to expand its reach and is planning to build a strong developer ecosystem in India with the program will set up the core AI infrastructure and IoT Hub for the selected campuses\n",
            "The company will provide AI development tools and Azure AI services such as Microsoft Cognitive Services, Bot Services and Azure Machine Learning.According to Manish Prakash, Country General Manager-PS, Health and Education, Microsoft India, said, \"With AI being the defining technology of our time, it is transforming lives and industry and the jobs of tomorrow will require a different skillset\n",
            "This will require more collaborations and training and working with AI\n",
            "Thatâ€™s why it has become more critical than ever for educational institutions to integrate new cloud and AI technologies\n",
            "The program is an attempt to ramp up the institutional set-up and build capabilities among the educators to educate the workforce of tomorrow.\" The program aims to build up the cognitive skills and in-depth understanding of developing intelligent cloud connected solutions for applications across industry\n",
            "Earlier in April this year, the company announced Microsoft Professional Program In AI as a learning track open to the public\n",
            "The program was developed to provide job ready skills to programmers who wanted to hone their skills in AI and data science with a series of online courses which featured hands-on labs and expert instructors as well\n",
            "This program also included developer-focused AI school that provided a bunch of assets to help build AI skills.\n"
          ]
        }
      ]
    },
    {
      "cell_type": "code",
      "metadata": {
        "id": "no_-dxurKz1c",
        "colab": {
          "base_uri": "https://localhost:8080/"
        },
        "outputId": "658e2f04-9186-4ffb-e51c-f95c93bcb48c"
      },
      "source": [
        "print(summary)"
      ],
      "execution_count": 75,
      "outputs": [
        {
          "output_type": "stream",
          "name": "stdout",
          "text": [
            "[In AI as a learning track open to the public\n",
            "The program was developed to provide job ready skills to programmers who wanted to hone their skills in AI and data science with a series of online courses which featured hands-on labs and expert instructors as well\n",
            "This program also included developer-focused AI school that provided a bunch of assets to help build AI skills., As part of the program, the Redmond giant which wants to expand its reach and is planning to build a strong developer ecosystem in India with the program will set up the core AI infrastructure and IoT Hub for the selected campuses\n",
            "The company will provide AI development tools and Azure AI services such as Microsoft Cognitive Services, Bot Services and Azure Machine Learning.]\n"
          ]
        }
      ]
    }
  ]
}